{
 "cells": [
  {
   "cell_type": "code",
   "execution_count": 1,
   "id": "44c849be",
   "metadata": {},
   "outputs": [
    {
     "name": "stdout",
     "output_type": "stream",
     "text": [
      "Requirement already satisfied: autoscraper in c:\\users\\sahil\\anaconda\\lib\\site-packages (1.1.14)\n",
      "Requirement already satisfied: requests in c:\\users\\sahil\\anaconda\\lib\\site-packages (from autoscraper) (2.31.0)\n",
      "Requirement already satisfied: bs4 in c:\\users\\sahil\\anaconda\\lib\\site-packages (from autoscraper) (0.0.1)\n",
      "Requirement already satisfied: lxml in c:\\users\\sahil\\anaconda\\lib\\site-packages (from autoscraper) (4.9.2)\n",
      "Requirement already satisfied: beautifulsoup4 in c:\\users\\sahil\\anaconda\\lib\\site-packages (from bs4->autoscraper) (4.12.2)\n",
      "Requirement already satisfied: charset-normalizer<4,>=2 in c:\\users\\sahil\\anaconda\\lib\\site-packages (from requests->autoscraper) (2.0.4)\n",
      "Requirement already satisfied: idna<4,>=2.5 in c:\\users\\sahil\\anaconda\\lib\\site-packages (from requests->autoscraper) (3.4)\n",
      "Requirement already satisfied: urllib3<3,>=1.21.1 in c:\\users\\sahil\\anaconda\\lib\\site-packages (from requests->autoscraper) (1.26.16)\n",
      "Requirement already satisfied: certifi>=2017.4.17 in c:\\users\\sahil\\anaconda\\lib\\site-packages (from requests->autoscraper) (2023.7.22)\n",
      "Requirement already satisfied: soupsieve>1.2 in c:\\users\\sahil\\anaconda\\lib\\site-packages (from beautifulsoup4->bs4->autoscraper) (2.4)\n",
      "Note: you may need to restart the kernel to use updated packages.\n"
     ]
    }
   ],
   "source": [
    "pip install autoscraper"
   ]
  },
  {
   "cell_type": "code",
   "execution_count": 3,
   "id": "f17fc607",
   "metadata": {},
   "outputs": [],
   "source": [
    "from autoscraper import AutoScraper"
   ]
  },
  {
   "cell_type": "code",
   "execution_count": 82,
   "id": "3f384672",
   "metadata": {},
   "outputs": [],
   "source": [
    "amazon_url = \"https://www.amazon.in/s?k=headphones&crid=MGLYBKW90PWH&sprefix=headphone%2Caps%2C182&ref=nb_sb_noss_2\"\n",
    "\n",
    "wanted_list=[\"₹1,499\", \"boAt Rockerz 450 Bluetooth On Ear Headphones with Mic, Upto 15 Hours Playback, 40MM Drivers, Padded Ear Cushions, Integrated Controls and Dual Modes(Luscious Black)\", \"105,020\"]"
   ]
  },
  {
   "cell_type": "code",
   "execution_count": 83,
   "id": "2a704b0c",
   "metadata": {},
   "outputs": [
    {
     "name": "stdout",
     "output_type": "stream",
     "text": [
      "['₹1,499', '₹349', '₹1,399', '₹2,599', '₹4,490', '₹599', '₹745', '₹149', '₹449', '₹1,999', '₹199', '₹2,899', '₹1,479', 'boAt Rockerz 450 Bluetooth On Ear Headphones with Mic, Upto 15 Hours Playback, 40MM Drivers, Padded Ear Cushions, Integrated Controls and Dual Modes(Aqua Blue)', 'Amazon\\'s Choicefor \"headphones\"', 'boAt BassHeads 100 in-Ear Wired Headphones with Mic (Black)', 'Infinity - JBL Tranz 710, 72 Hrs Playtime with Quick Charge, Wireless On Ear Headphone with Mic, Deep Bass, Dual Equalizer, Bluetooth 5.0 with Voice Assistant Support (Black)', 'Best sellerin On-Ear Headphones', 'boAt Rockerz 450 Bluetooth On Ear Headphones with Mic, Upto 15 Hours Playback, 40MM Drivers, Padded Ear Cushions, Integrated Controls and Dual Modes(Luscious Black)', 'Best sellerin Over-Ear Headphones', 'boAt Rockerz 551ANC Hybrid Active Noise Cancellation Headphones with Up to 100H Playtime, ASAPTM Charge, Ambient Sound Mode &Dual EQ Modes, ENxTM Technology(Stellar Black)', 'Sony WH-CH520, Wireless On-Ear Bluetooth Headphones with Mic, Upto 50 Hours Playtime, DSEE Upscale, Multipoint Connectivity/Dual Pairing,Voice Assistant App Support for Mobile Phones (Beige)', 'JBL C100SI Wired In Ear Headphones with Mic, JBL Pure Bass Sound, One Button Multi-function Remote, Angled Buds for Comfort fit (Black)', 'Logitech H111 Wired On Ear Headphones With Mic Black', 'boAt Bassheads 162 in Ear Wired Earphones with Mic(Jazzy Blue)', 'ZEBRONICS Zeb-Bro in Ear Wired Earphones with Mic, 3.5mm Audio Jack, 10mm Drivers, Phone/Tablet Compatible(Blue)', 'boAt BassHeads 225 Special Edition in-Ear Wired Headphones with Mic (Blue)', 'boAt Rockerz 558 Bluetooth Wireless Over Ear Headphones with Mic Upto 20 Hours Playback, 50MM Drivers, Soft Padded Ear Cushions and Physical Noise Isolation(Army Green)', 'boAt Rockerz 558 Bluetooth Wireless Over Ear Headphones with Mic Upto 20 Hours Playback, 50MM Drivers, Soft Padded Ear Cushions and Physical Noise Isolation (Red)', 'ZEBRONICS Zeb-Buds 30 3.5Mm Stereo Wired in Ear Earphones with Mic for Calling, Volume Control, Multifunction Button, 14Mm Drivers, Stylish Eartip,1.2 Meter Durable Cable and Lightweight Design(Red)', 'JBL Tune 510BT, On Ear Wireless Headphones with Mic, up to 40 Hours Playtime, Pure Bass, Quick Charging, Dual Pairing, Bluetooth 5.0 & Voice Assistant Support for Mobile Phones (Black)', 'Sony MDR-ZX110AP Wired On-Ear Headphones with tangle free cable, 3.5mm Jack, Headset with Mic for phone calls and 1 Year Warranty - (Black)', '105,020', '390,456', '38,030', '60,880', '4,297', '201,591', '15,734', '36,808', '38,815', '275,548', '6,092', '34,974', '11,035']\n"
     ]
    }
   ],
   "source": [
    "scraper=AutoScraper()\n",
    "result=scraper.build(amazon_url,wanted_list)\n",
    "print(result)"
   ]
  },
  {
   "cell_type": "code",
   "execution_count": 93,
   "id": "244d3cd2",
   "metadata": {},
   "outputs": [
    {
     "data": {
      "text/plain": [
       "{'rule_z0kd': ['₹1,499',\n",
       "  '₹349',\n",
       "  '₹1,399',\n",
       "  '₹1,499',\n",
       "  '₹2,599',\n",
       "  '₹4,490',\n",
       "  '₹599',\n",
       "  '₹745',\n",
       "  '₹349',\n",
       "  '₹149',\n",
       "  '₹449',\n",
       "  '₹1,999',\n",
       "  '₹1,999',\n",
       "  '₹199',\n",
       "  '₹2,899',\n",
       "  '₹1,479'],\n",
       " 'rule_64te': ['₹1,499',\n",
       "  '₹349',\n",
       "  '₹1,399',\n",
       "  '₹1,499',\n",
       "  '₹2,599',\n",
       "  '₹4,490',\n",
       "  '₹599',\n",
       "  '₹745',\n",
       "  '₹349',\n",
       "  '₹149',\n",
       "  '₹449',\n",
       "  '₹1,999',\n",
       "  '₹1,999',\n",
       "  '₹199',\n",
       "  '₹2,899',\n",
       "  '₹1,479'],\n",
       " 'rule_i0pt': ['₹1,499',\n",
       "  '₹349',\n",
       "  '₹1,399',\n",
       "  '₹1,499',\n",
       "  '₹2,599',\n",
       "  '₹4,490',\n",
       "  '₹599',\n",
       "  '₹745',\n",
       "  '₹349',\n",
       "  '₹149',\n",
       "  '₹449',\n",
       "  '₹1,999',\n",
       "  '₹1,999',\n",
       "  '₹199',\n",
       "  '₹2,899',\n",
       "  '₹1,479'],\n",
       " 'rule_lcoi': ['₹1,499',\n",
       "  '₹349',\n",
       "  '₹1,399',\n",
       "  '₹1,499',\n",
       "  '₹2,599',\n",
       "  '₹4,490',\n",
       "  '₹599',\n",
       "  '₹745',\n",
       "  '₹349',\n",
       "  '₹149',\n",
       "  '₹449',\n",
       "  '₹1,999',\n",
       "  '₹1,999',\n",
       "  '₹199',\n",
       "  '₹2,899',\n",
       "  '₹1,479'],\n",
       " 'rule_5005': ['boAt Rockerz 450 Bluetooth On Ear Headphones with Mic, Upto 15 Hours Playback, 40MM Drivers, Padded Ear Cushions, Integrated Controls and Dual Modes(Aqua Blue)',\n",
       "  'Amazon\\'s Choicefor \"headphones\"',\n",
       "  'boAt BassHeads 100 in-Ear Wired Headphones with Mic (Black)',\n",
       "  'Infinity - JBL Tranz 710, 72 Hrs Playtime with Quick Charge, Wireless On Ear Headphone with Mic, Deep Bass, Dual Equalizer, Bluetooth 5.0 with Voice Assistant Support (Black)',\n",
       "  'Best sellerin On-Ear Headphones',\n",
       "  'boAt Rockerz 450 Bluetooth On Ear Headphones with Mic, Upto 15 Hours Playback, 40MM Drivers, Padded Ear Cushions, Integrated Controls and Dual Modes(Luscious Black)',\n",
       "  'Best sellerin Over-Ear Headphones',\n",
       "  'boAt Rockerz 551ANC Hybrid Active Noise Cancellation Headphones with Up to 100H Playtime, ASAPTM Charge, Ambient Sound Mode &Dual EQ Modes, ENxTM Technology(Stellar Black)',\n",
       "  'Sony WH-CH520, Wireless On-Ear Bluetooth Headphones with Mic, Upto 50 Hours Playtime, DSEE Upscale, Multipoint Connectivity/Dual Pairing,Voice Assistant App Support for Mobile Phones (Beige)',\n",
       "  'JBL C100SI Wired In Ear Headphones with Mic, JBL Pure Bass Sound, One Button Multi-function Remote, Angled Buds for Comfort fit (Black)',\n",
       "  'Logitech H111 Wired On Ear Headphones With Mic Black',\n",
       "  'boAt Bassheads 162 in Ear Wired Earphones with Mic(Jazzy Blue)',\n",
       "  'ZEBRONICS Zeb-Bro in Ear Wired Earphones with Mic, 3.5mm Audio Jack, 10mm Drivers, Phone/Tablet Compatible(Blue)',\n",
       "  'boAt BassHeads 225 Special Edition in-Ear Wired Headphones with Mic (Blue)',\n",
       "  'boAt Rockerz 558 Bluetooth Wireless Over Ear Headphones with Mic Upto 20 Hours Playback, 50MM Drivers, Soft Padded Ear Cushions and Physical Noise Isolation(Army Green)',\n",
       "  'boAt Rockerz 558 Bluetooth Wireless Over Ear Headphones with Mic Upto 20 Hours Playback, 50MM Drivers, Soft Padded Ear Cushions and Physical Noise Isolation (Red)',\n",
       "  'ZEBRONICS Zeb-Buds 30 3.5Mm Stereo Wired in Ear Earphones with Mic for Calling, Volume Control, Multifunction Button, 14Mm Drivers, Stylish Eartip,1.2 Meter Durable Cable and Lightweight Design(Red)',\n",
       "  'JBL Tune 510BT, On Ear Wireless Headphones with Mic, up to 40 Hours Playtime, Pure Bass, Quick Charging, Dual Pairing, Bluetooth 5.0 & Voice Assistant Support for Mobile Phones (Black)',\n",
       "  'Sony MDR-ZX110AP Wired On-Ear Headphones with tangle free cable, 3.5mm Jack, Headset with Mic for phone calls and 1 Year Warranty - (Black)'],\n",
       " 'rule_8zud': ['105,020',\n",
       "  '390,456',\n",
       "  '38,030',\n",
       "  '105,020',\n",
       "  '60,880',\n",
       "  '4,297',\n",
       "  '201,591',\n",
       "  '15,734',\n",
       "  '36,808',\n",
       "  '38,815',\n",
       "  '275,548',\n",
       "  '60,880',\n",
       "  '60,880',\n",
       "  '6,092',\n",
       "  '34,974',\n",
       "  '11,035'],\n",
       " 'rule_8c0t': ['105,020',\n",
       "  '390,456',\n",
       "  '38,030',\n",
       "  '105,020',\n",
       "  '60,880',\n",
       "  '4,297',\n",
       "  '201,591',\n",
       "  '15,734',\n",
       "  '36,808',\n",
       "  '38,815',\n",
       "  '275,548',\n",
       "  '60,880',\n",
       "  '60,880',\n",
       "  '6,092',\n",
       "  '34,974',\n",
       "  '11,035']}"
      ]
     },
     "execution_count": 93,
     "metadata": {},
     "output_type": "execute_result"
    }
   ],
   "source": [
    "scraper.get_result_similar(amazon_url, grouped=True)"
   ]
  },
  {
   "cell_type": "code",
   "execution_count": 94,
   "id": "feb1aea3",
   "metadata": {},
   "outputs": [],
   "source": [
    "scraper.set_rule_aliases({'rule_5005': 'Title', 'rule_lcoi':'Price', 'rule_8c0t':'Ratings'})\n",
    "scraper.keep_rules(['rule_5005','rule_lcoi','rule_8c0t'])\n",
    "scraper.save('amazon-search')"
   ]
  },
  {
   "cell_type": "code",
   "execution_count": 160,
   "id": "755506f8",
   "metadata": {},
   "outputs": [
    {
     "data": {
      "text/plain": [
       "['Amazon\\'s Choicefor \"headphones under 500\"',\n",
       " 'boAt BassHeads 100 in-Ear Wired Headphones with Mic (Black)',\n",
       " 'ZEBRONICS Zeb-Storm Wired On Ear Headphone with 3.5mm Jack, Built-in Microphone for Calling, 1.5 Meter Cable, Soft Ear Cushion, Adjustable Headband, Foldable Ear Cups and Lightweight Design (Black)',\n",
       " 'boAt Bassheads 162 in Ear Wired Earphones with Mic(Jazzy Blue)',\n",
       " 'ZEBSTER Z -Aura Over The Ear Headphones with Foldable Design and Bluetooth v4.1 Headphones',\n",
       " 'boAt BassHeads 225 Special Edition in-Ear Wired Headphones with Mic (Blue)',\n",
       " 'ZEBRONICS Zeb-Storm Wired On Ear Headphone with 3.5mm Jack, Built in Microphone for Calling, 1.5 Meter Cable, Soft Ear Cushion, Adjustable Headband, Foldable Ear Cups and Lightweight Design (Blue)',\n",
       " 'Zimo AeroFlex Bluetooth 5.2 Wireless in-Ear Headphones, 18Hrs Playtime, Deep Bass, HD Calls, Dual Device Pairing, Voice Assist, Type-C Fast Charge Wireless Neckband, IPX4 Water Resistant (Blue/Black)',\n",
       " 'Philips Audio TAE1126 Wired in Ear Earphones with mic, 10 mm Driver, Powerful bass and Clear Sound, Black',\n",
       " 'Zebronics Newly Launched Storm Wired On Ear Headphone with 3.5mm Jack, Built-in Microphone for Calling,1.5 Meter Cable, Soft Ear Cushion, Adjustable Headband,Foldable Ear Cups(White)',\n",
       " 'pTron Tangent Duo Bluetooth 5.2 Wireless in-Ear Headphones, 13mm Driver, Deep Bass, HD Calls, Fast Charging Type-C Wireless Neckband, Dual Pairing,Voice Assist & IPX4 Water Resistant(Neon Green/Black)',\n",
       " 'JBL C50HI, Wired in Ear Headphones with Mic, One Button Multi-Function Remote, Lightweight & Comfortable fit (Black)',\n",
       " 'ZEBRONICS Zeb-Bro in Ear Wired Earphones with Mic, 3.5mm Audio Jack, 10mm Drivers, Phone/Tablet Compatible(Blue)',\n",
       " 'PTron Boom Ultima 4D Dual Driver, in-Ear Gaming Wired Headphones with in-line Mic, Volume Control & Passive Noise Cancelling Boom 3 Earphones - (Dark Blue)',\n",
       " 'boAt BassHeads 100 in-Ear Wired Headphones with Mic (White)',\n",
       " 'ZEBRONICS Zeb-Bro in Ear Wired Earphones with Mic, 3.5mm Audio Jack, 10mm Drivers, Phone/Tablet Compatible(Red)',\n",
       " 'JBL C50HI, Wired in Ear Headphones with Mic, One Button Multi-Function Remote, Lightweight & Comfortable fit (Blue)']"
      ]
     },
     "execution_count": 160,
     "metadata": {},
     "output_type": "execute_result"
    }
   ],
   "source": [
    "result = scraper.get_result_similar('https://www.amazon.in/s?k=headphones+under+500', group_by_alias = True)\n",
    "result['Title']"
   ]
  },
  {
   "cell_type": "code",
   "execution_count": 161,
   "id": "b91025eb",
   "metadata": {},
   "outputs": [],
   "source": [
    "import csv\n",
    "titles = result['Title']\n",
    "csv_file = 'Amazonsimilarscrape.csv'\n",
    "with open(csv_file, 'w', newline='', encoding='utf-8') as file:\n",
    "    writer = csv.writer(file)\n",
    "    writer.writerow(['Title']) \n",
    "    for title in titles:\n",
    "        writer.writerow([title])\n"
   ]
  },
  {
   "cell_type": "code",
   "execution_count": null,
   "id": "4ebe4219",
   "metadata": {},
   "outputs": [],
   "source": []
  },
  {
   "cell_type": "code",
   "execution_count": null,
   "id": "c6bba26f",
   "metadata": {},
   "outputs": [],
   "source": []
  }
 ],
 "metadata": {
  "kernelspec": {
   "display_name": "Python 3 (ipykernel)",
   "language": "python",
   "name": "python3"
  },
  "language_info": {
   "codemirror_mode": {
    "name": "ipython",
    "version": 3
   },
   "file_extension": ".py",
   "mimetype": "text/x-python",
   "name": "python",
   "nbconvert_exporter": "python",
   "pygments_lexer": "ipython3",
   "version": "3.11.4"
  }
 },
 "nbformat": 4,
 "nbformat_minor": 5
}
